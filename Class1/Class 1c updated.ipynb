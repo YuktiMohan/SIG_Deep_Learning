{
 "cells": [
  {
   "cell_type": "markdown",
   "metadata": {},
   "source": []
  },
  {
   "cell_type": "markdown",
   "metadata": {},
   "source": [
    "# Day 6 - Files, Modules and Stuff"
   ]
  },
  {
   "cell_type": "markdown",
   "metadata": {},
   "source": [
    "## Stuff\n",
    "\n",
    "Few topics we missed in the classes but are important in programming. \n",
    "\n",
    "##### break\n",
    "\n",
    "The **break** keyword is used int the loops to break the execution of the loops and get out of it. \n",
    "\n",
    "Commmon usecase is if we are checking a condition to match and once it matches we want to exit the loop. \n",
    "\n",
    "```python\n",
    "count = 0 \n",
    "\n",
    "for data in range(1,11):\n",
    "\tif count > 5:\n",
    "\t\tbreak\n",
    "\tprint(data**5)\n",
    "\tcount = count + `\n",
    "```\n",
    "\n",
    "##### continue\n",
    "\n",
    "The **continue**  keyword is again used in the loops to skip the remaining statments of the loop and start the next iteration. \n",
    "\n",
    "```python\n",
    "\n",
    "````"
   ]
  },
  {
   "cell_type": "code",
   "execution_count": 11,
   "metadata": {
    "scrolled": true
   },
   "outputs": [
    {
     "name": "stdout",
     "output_type": "stream",
     "text": [
      "1\n",
      "32\n",
      "243\n",
      "1024\n",
      "3125\n",
      "7776\n"
     ]
    }
   ],
   "source": [
    "count = 0 \n",
    "\n",
    "# print the powers of 5 from 0 to 5. \n",
    "for data in range(1,11):\n",
    "    if count > 5:\n",
    "        break\n",
    "    print(data**5)\n",
    "    count = count + 1"
   ]
  },
  {
   "cell_type": "code",
   "execution_count": 2,
   "metadata": {},
   "outputs": [
    {
     "name": "stdout",
     "output_type": "stream",
     "text": [
      "1\n",
      "32\n",
      "243\n",
      "1024\n",
      "3125\n"
     ]
    }
   ],
   "source": [
    "#assignment 1\n",
    "\n",
    "count = 0 \n",
    "\n",
    "# print the powers of 5 from 0 to 5. \n",
    "for data in range(1,11):\n",
    "    if count >= 5 :\n",
    "        continue\n",
    "    print(data**5)\n",
    "    count = count + 1"
   ]
  },
  {
   "cell_type": "code",
   "execution_count": 5,
   "metadata": {},
   "outputs": [
    {
     "data": {
      "text/plain": [
       "['anshul', 'ashish', 'ashutosh']"
      ]
     },
     "execution_count": 5,
     "metadata": {},
     "output_type": "execute_result"
    }
   ],
   "source": [
    "#strings - split()\n",
    "\n",
    "my_string = \"anshul-ashish-ashutosh\"\n",
    "\n",
    "my_string.split('-')\n",
    "#my_string.split()"
   ]
  },
  {
   "cell_type": "code",
   "execution_count": 4,
   "metadata": {
    "scrolled": true
   },
   "outputs": [
    {
     "data": {
      "text/plain": [
       "'my_file.txt'"
      ]
     },
     "execution_count": 4,
     "metadata": {},
     "output_type": "execute_result"
    }
   ],
   "source": [
    "filename = \"c:\\\\users\\\\arpit\\\\Dekstop\\\\my_file.txt\"\n",
    "\n",
    "filename.split(\"\\\\\")[-1]"
   ]
  },
  {
   "cell_type": "code",
   "execution_count": 17,
   "metadata": {},
   "outputs": [
    {
     "data": {
      "text/plain": [
       "['my_file', 'txt']"
      ]
     },
     "execution_count": 17,
     "metadata": {},
     "output_type": "execute_result"
    }
   ],
   "source": [
    "filename.split(\"\\\\\")[-1]  ## my_file.txt\n",
    "filename.split(\"\\\\\")[-1].split('.')"
   ]
  },
  {
   "cell_type": "markdown",
   "metadata": {},
   "source": [
    "## Files"
   ]
  },
  {
   "cell_type": "markdown",
   "metadata": {},
   "source": [
    "Working with Files is one of the most important tasks we do in data science and machine learning as it's impossible to generate data or ask it from the user everytime. \n",
    "\n",
    "The files contain data for our use and we can load and manipulate that data for our special purposes. Now we will learn how to read and write files. \n",
    "\n",
    "There are basically 3 steps while working with files. \n",
    "\n",
    "1. Open the file \n",
    "2. Read the data from the file \n",
    "3. Close the file\n",
    "\n",
    "For python each of these tasks have special functions and we will use them to work with \n",
    "```python\n",
    "open() - to open the file and give us a file object\n",
    "\n",
    "read() - to read the contents of the file and give us a string\n",
    "\n",
    "close() - to close the file object \n",
    "```"
   ]
  },
  {
   "cell_type": "code",
   "execution_count": 20,
   "metadata": {
    "collapsed": true
   },
   "outputs": [],
   "source": [
    "f = open('./datasets/wine.csv') # open the file and make the file object as f"
   ]
  },
  {
   "cell_type": "code",
   "execution_count": 18,
   "metadata": {},
   "outputs": [
    {
     "ename": "FileNotFoundError",
     "evalue": "[Errno 2] No such file or directory: './datasets/wine2.csv'",
     "output_type": "error",
     "traceback": [
      "\u001b[0;31m-----------------------------------------------------------------------\u001b[0m",
      "\u001b[0;31mFileNotFoundError\u001b[0m                     Traceback (most recent call last)",
      "\u001b[0;32m<ipython-input-18-6c537f8df1a2>\u001b[0m in \u001b[0;36m<module>\u001b[0;34m()\u001b[0m\n\u001b[0;32m----> 1\u001b[0;31m \u001b[0mf\u001b[0m \u001b[0;34m=\u001b[0m \u001b[0mopen\u001b[0m\u001b[0;34m(\u001b[0m\u001b[0;34m'./datasets/wine2.csv'\u001b[0m\u001b[0;34m)\u001b[0m \u001b[0;31m# open the file and make the file object as f\u001b[0m\u001b[0;34m\u001b[0m\u001b[0m\n\u001b[0m",
      "\u001b[0;31mFileNotFoundError\u001b[0m: [Errno 2] No such file or directory: './datasets/wine2.csv'"
     ]
    }
   ],
   "source": [
    "f = open('./datasets/wine2.csv') # open the file and make the file object as f"
   ]
  },
  {
   "cell_type": "code",
   "execution_count": 21,
   "metadata": {
    "scrolled": false
   },
   "outputs": [
    {
     "name": "stdout",
     "output_type": "stream",
     "text": [
      "class_label,class_name,alcohol,malic_acid,ash,alcalinity_of_ash,magnesium,total_phenols,flavanoids,nonflavanoid_phenols,proanthocyanins,color_intensity,hue,od280,proline\n",
      "1,Barolo,14.23,1.71,2.43,15.6,127,2.8,3.06,0.28,2.29,5.64,1.04,3.92,1065\n",
      "1,Barolo,13.2,1.78,2.14,11.2,100,2.65,2.76,0.26,1.28,4.38,1.05,3.4,1050\n",
      "1,Barolo,13.16,2.36,2.67,18.6,101,2.8,3.24,0.3,2.81,5.68,1.03,3.17,1185\n",
      "1,Barolo,14.3\n"
     ]
    }
   ],
   "source": [
    "data = f.read() # read all the contents of the file as a string \n",
    "print(data[0:400])  # print only first 400 characters"
   ]
  },
  {
   "cell_type": "code",
   "execution_count": 22,
   "metadata": {},
   "outputs": [
    {
     "name": "stdout",
     "output_type": "stream",
     "text": [
      "\n"
     ]
    }
   ],
   "source": [
    "print(f.read())"
   ]
  },
  {
   "cell_type": "markdown",
   "metadata": {},
   "source": [
    "Now once the data has been read there is nothing to read more. So if you use the `read()` function again, you will get empty string. To read again, close and open the file again. "
   ]
  },
  {
   "cell_type": "code",
   "execution_count": 3,
   "metadata": {
    "collapsed": true
   },
   "outputs": [],
   "source": [
    "f.close()  #close the file object "
   ]
  },
  {
   "cell_type": "markdown",
   "metadata": {},
   "source": [
    "What to do when you want to go back again at the top. For this file object has function \n",
    "\n",
    "`seek(position)` --> go to the position at that character in the file. \n",
    "\n",
    "Though it's a functionality give it's rarely used for our specific purposes. "
   ]
  },
  {
   "cell_type": "code",
   "execution_count": 23,
   "metadata": {},
   "outputs": [
    {
     "name": "stdout",
     "output_type": "stream",
     "text": [
      "class_label,class_name,alcohol,malic_acid,ash,alcalinity_of_ash,magnesium,total_phenols,flavanoids,n\n",
      "class_name,alcohol,malic_acid,ash,alcalinity_of_ash,magnesium,total_phenols,flavanoids,nonflavanoid_\n"
     ]
    }
   ],
   "source": [
    "f = open('./datasets/wine.csv')  # open the file\n",
    "data = f.read()  # read the full file\n",
    "print(data[:100]) \n",
    "f.seek(12)                       # set the cursor to 12th character\n",
    "data = f.read()                  # read the file from 12th character to last line\n",
    "print(data[:100])                # print 100 characters \n",
    "f.close()                        # close the file."
   ]
  },
  {
   "cell_type": "markdown",
   "metadata": {},
   "source": [
    "By default, python opens the file for reading only. What if we want to write to the file. \n",
    "We have a separate argument in the `open()` function which takes the mode in which we open the file. \n",
    "\n",
    "eg. \n",
    "```python\n",
    "f = open(filename, ['r']['w']['a']['b']['+'])\n",
    "```\n",
    "\n",
    "#### Info about each mode \n",
    "\n",
    "mode word | details \n",
    "----------|--------\n",
    "r | read only mode \n",
    "w | write only mode. Overwrites the previous content in the file\n",
    "a | append mode. Adds the content at the end of the file.\n",
    "b | opens the file in binary mode for images, non text files \n",
    "+ | used with any of above mode for both reading and writing\n"
   ]
  },
  {
   "cell_type": "code",
   "execution_count": 24,
   "metadata": {
    "collapsed": true
   },
   "outputs": [],
   "source": [
    "# let's do some writing \n",
    "\n",
    "f = open('sampleFile.txt','w')\n",
    "f.write(\"This is a sample file and it is just created\")\n",
    "f.close()\n",
    "\n",
    "# see the file in the current directory\n",
    "\n"
   ]
  },
  {
   "cell_type": "code",
   "execution_count": 25,
   "metadata": {},
   "outputs": [
    {
     "name": "stdout",
     "output_type": "stream",
     "text": [
      "This is a sample file and it is just created\n"
     ]
    }
   ],
   "source": [
    "#open and read the content of the file \n",
    "f  = open('sampleFile.txt')\n",
    "data = f.read()\n",
    "print(data)\n",
    "f.close()"
   ]
  },
  {
   "cell_type": "markdown",
   "metadata": {},
   "source": [
    "Opening a file in write mode will automatically remove the previous content "
   ]
  },
  {
   "cell_type": "code",
   "execution_count": 3,
   "metadata": {
    "scrolled": true
   },
   "outputs": [
    {
     "name": "stdout",
     "output_type": "stream",
     "text": [
      "This is a sample file again  and it is just created again\n"
     ]
    }
   ],
   "source": [
    "# let's do some writing \n",
    "\n",
    "f = open('sampleFile.txt','w')\n",
    "f.write(\"This is a sample file again  and it is just created again\")\n",
    "f.close()\n",
    "\n",
    "#open and read the content of the file \n",
    "f  = open('sampleFile.txt')\n",
    "data = f.read()\n",
    "print(data)\n",
    "f.close()"
   ]
  },
  {
   "cell_type": "code",
   "execution_count": 27,
   "metadata": {},
   "outputs": [
    {
     "name": "stdout",
     "output_type": "stream",
     "text": [
      "This is a sample file again  and it is just created again\n"
     ]
    }
   ],
   "source": [
    "### question if we move close before print. \n",
    "# let's do some writing \n",
    "\n",
    "f = open('sampleFile.txt','w')\n",
    "f.write(\"This is a sample file again  and it is just created again\")\n",
    "f.close()\n",
    "\n",
    "#open and read the content of the file \n",
    "f  = open('sampleFile.txt')\n",
    "data = f.read()\n",
    "f.close()\n",
    "print(data)\n"
   ]
  },
  {
   "cell_type": "markdown",
   "metadata": {},
   "source": [
    "We see that the previous line have been gone. To add the content to the previous content we use the append mode with\n",
    "```\n",
    "a\n",
    "```"
   ]
  },
  {
   "cell_type": "code",
   "execution_count": 28,
   "metadata": {},
   "outputs": [
    {
     "name": "stdout",
     "output_type": "stream",
     "text": [
      "This is a sample file again  and it is just created again\n",
      "\n",
      "This is a new line that we are writing and we should get all content now.\n"
     ]
    }
   ],
   "source": [
    "\n",
    "f = open('sampleFile.txt','a')\n",
    "f.write(\"\\n\\nThis is a new line that we are writing and we should get all content now.\")\n",
    "f.close()\n",
    "\n",
    "#open and read the content of the file \n",
    "f  = open('sampleFile.txt')\n",
    "data = f.read()\n",
    "print(data)\n",
    "f.close()"
   ]
  },
  {
   "cell_type": "markdown",
   "metadata": {},
   "source": [
    "Awesome now we know how to open, read and write to files. There are a couple of more use cases \n",
    "\n",
    "1. **Read a file line by line**\n",
    "\n",
    "   Python has different methods to read the content of the file. For this task we have \n",
    "   1. readline()  # read a single line and then read again\n",
    "   2. readlines() # read all the lines and returns a list \n",
    "   2. writelines() # write lines from an iterable like a list\n",
    "   \n",
    "2. **What if I forgot to close the file?**\n",
    "\n",
    "    Generally nothing happens but you might lose your data. It's better to close.\n",
    "    \n",
    "    To overcome this issue of keeping track of closing files, python has a special way to handle automatic closing of the files\n",
    "    \n",
    "    The **with** statement. Internally it's fairly complex and you can [learn more about it here](http://effbot.org/zone/python-with-statement.htm). \n",
    "    \n",
    "    For us we will use **with** whenever we want to create some context like things and want to run the python code under that context. eg. We want to open an file and want to do operations on the that file and then it will automatically handle everything. \n",
    "    \n",
    "    ```python\n",
    "    with open(filename, mode) as f:\n",
    "        f.read()\n",
    "        f.write()\n",
    "        # don't need to do f.close() as it will be automatically done after the block end. \n",
    "    ```\n",
    "        \n",
    "        "
   ]
  },
  {
   "cell_type": "code",
   "execution_count": 29,
   "metadata": {
    "scrolled": false
   },
   "outputs": [
    {
     "name": "stdout",
     "output_type": "stream",
     "text": [
      "This is a sample file again  and it is just created again\n",
      "\n",
      "This is a new line that we are writing and we should get all content now.\n"
     ]
    }
   ],
   "source": [
    "with open('sampleFile.txt') as f:\n",
    "    data = f.read()\n",
    "    print(data)"
   ]
  },
  {
   "cell_type": "markdown",
   "metadata": {},
   "source": [
    "### BREAK"
   ]
  },
  {
   "cell_type": "markdown",
   "metadata": {},
   "source": [
    "We will use the `with` statement many times later when working with Tensorflow but here we generally work with files.\n",
    "\n",
    "This concludes our simple file read write section. Let's see some problems \n",
    "\n",
    "1. I don't want the full data in string. Why?? Because I don't want to manually see each value\n",
    "2. In wine data set, each row represents data and the first row is header. Is there some way we can get the values in tabular form or like in dictionary \n",
    "\n",
    "\n",
    "Here comes the modules section\n",
    "\n",
    "## Modules\n",
    "\n",
    "Modules are the files in python which provide use more functionality than the standard python. \n",
    "Once we learn how to program and understand the syntax of python we want to do much more stuff. \n",
    "\n",
    "Modules in python are files which contains classes, function and variables which can be used by others\n",
    "and make our lives easier. \n",
    "\n",
    "Since modules are external we need to bring them into our program (we call them **importing a module**\n",
    "\n",
    "#### How to import a module \n",
    "\n",
    "we have a **import** keyword which does this for us and provide it a module name like \n",
    "\n",
    "```python\n",
    "import math  #imports the math module \n",
    "```\n",
    "To use an object from that module we use the syntax as \n",
    "\n",
    "```python \n",
    "pie = math.pi    # use the module name and then use the **dot** to get the object as we do for methods in string\n",
    "print(pie)\n",
    "```\n",
    "\n",
    "If we want to import only specific objects from a module we use the **from** keyword as \n",
    "\n",
    "```python \n",
    "from math import pi\n",
    "print(pi)\n",
    "```\n",
    "\n",
    "Sometimes modules names are long as we will see the in the course later \n",
    "and to use objeects we have to use the full name. To simplify this we use **as** keyword to rename a module. \n",
    "\n",
    "```python \n",
    "import math as mm\n",
    "print(mm.pi)\n",
    "```"
   ]
  },
  {
   "cell_type": "code",
   "execution_count": null,
   "metadata": {
    "collapsed": true
   },
   "outputs": [],
   "source": [
    "from sklearn.preprocessing import StandardScaler as scaler"
   ]
  },
  {
   "cell_type": "code",
   "execution_count": 30,
   "metadata": {},
   "outputs": [
    {
     "name": "stdout",
     "output_type": "stream",
     "text": [
      "3.141592653589793\n"
     ]
    }
   ],
   "source": [
    "import math\n",
    "\n",
    "pei = math.pi\n",
    "\n",
    "print(pei)"
   ]
  },
  {
   "cell_type": "code",
   "execution_count": 31,
   "metadata": {},
   "outputs": [
    {
     "name": "stdout",
     "output_type": "stream",
     "text": [
      "3.141592653589793\n"
     ]
    }
   ],
   "source": [
    "from math import pi  #directly  use the object \n",
    "print(pi)"
   ]
  },
  {
   "cell_type": "code",
   "execution_count": 32,
   "metadata": {
    "scrolled": true
   },
   "outputs": [
    {
     "name": "stdout",
     "output_type": "stream",
     "text": [
      "3.141592653589793\n"
     ]
    }
   ],
   "source": [
    "import math as mm\n",
    "print(mm.pi)"
   ]
  },
  {
   "cell_type": "markdown",
   "metadata": {},
   "source": [
    "## Reading special files (csv)\n",
    "\n",
    "**What is csv format?**\n",
    "\n",
    "CSV stands for **Comma Separated Values**. It's one of the most common formats for passing around data in the world other than the **JSON** format which we will learn later. \n",
    "\n",
    "The values in this file are separated by comma like \n",
    "\n",
    "> 1,Barolo,14.23,1.71,2.43,15.6,127,2.8,3.06,0.28,2.29,5.64,1.04,3.92,1065\n",
    "\n",
    "Here each value is separated by comma. \n",
    "Now when reading this type of file if we use the simple file read and write functions of python we get a complete string. \n",
    "\n",
    "\n",
    "To separate the values we need to use the `split()` function of **string** to get the values in a list and then we need to get the values individually. "
   ]
  },
  {
   "cell_type": "code",
   "execution_count": 33,
   "metadata": {
    "scrolled": false
   },
   "outputs": [
    {
     "name": "stdout",
     "output_type": "stream",
     "text": [
      "class_label,class_name,alcohol,malic_acid,ash,alcalinity_of_ash,magnesium,total_phenols,flavanoids,nonflavanoid_phenols,proanthocyanins,color_intensity,hue,od280,proline\n",
      "\n",
      "['class_label', 'class_name', 'alcohol', 'malic_acid', 'ash', 'alcalinity_of_ash', 'magnesium', 'total_phenols', 'flavanoids', 'nonflavanoid_phenols', 'proanthocyanins', 'color_intensity', 'hue', 'od280', 'proline\\n']\n",
      "malic_acid\n",
      "1.71\n"
     ]
    }
   ],
   "source": [
    "with open('./datasets/wine.csv') as f:\n",
    "    line = f.readline()\n",
    "    print(line)\n",
    "    header_list = line.split(',')\n",
    "    print(header_list)\n",
    "    print(header_list[3])\n",
    "    \n",
    "    for line in f:\n",
    "        data = line.split(\",\")\n",
    "        print(data[3])\n",
    "        break"
   ]
  },
  {
   "cell_type": "markdown",
   "metadata": {},
   "source": [
    "This becomes tedious after some time and it has some issues like what is some column has multiple values separated by comma. Then this approach will fail. \n",
    "\n",
    "What can do ? Use a module \n",
    "\n",
    "### csv module\n",
    "\n",
    "csv modules do the boring work for us and gives the data already separated as we want. We are lazy. \n",
    "\n",
    "**Importing csv module**\n",
    "\n",
    "```python \n",
    "import csv \n",
    "```\n",
    "\n",
    "**csv modules** has few objects which make things easier for us \n",
    "\n",
    "* **reader** - reads the data from file based on separator \n",
    "* **writer** - writes the data in **csv** format \n",
    "\n",
    "Let' see how to use them "
   ]
  },
  {
   "cell_type": "code",
   "execution_count": 38,
   "metadata": {},
   "outputs": [
    {
     "name": "stdout",
     "output_type": "stream",
     "text": [
      "['1', 'Barolo', '14.23', '1.71', '2.43', '15.6', '127', '2.8', '3.06', '0.28', '2.29', '5.64', '1.04', '3.92', '1065']\n"
     ]
    }
   ],
   "source": [
    "import csv\n",
    "with open('./datasets/wine.csv') as f:\n",
    "    pointer = csv.reader(f, delimiter = ',')\n",
    "    row = next(pointer)\n",
    "    for row in pointer:\n",
    "        print(row)\n",
    "        break"
   ]
  },
  {
   "cell_type": "code",
   "execution_count": 39,
   "metadata": {},
   "outputs": [
    {
     "name": "stdout",
     "output_type": "stream",
     "text": [
      "['class_label', 'class_name', 'alcohol', 'malic_acid', 'ash', 'alcalinity_of_ash', 'magnesium', 'total_phenols', 'flavanoids', 'nonflavanoid_phenols', 'proanthocyanins', 'color_intensity', 'hue', 'od280', 'proline']\n"
     ]
    }
   ],
   "source": [
    "import csv\n",
    "with open('./datasets/wine.csv') as f:\n",
    "    reader = csv.reader(f, delimiter = ',')\n",
    "#     row = next(reader) commented next\n",
    "    for row in reader:\n",
    "        print(row)\n",
    "        break"
   ]
  },
  {
   "cell_type": "markdown",
   "metadata": {},
   "source": [
    "Here we see some new things. \n",
    "\n",
    "**next()** - next function gets us the value at the current position in the iterator and the moves the cursor to the next item in iterator. In this case the next row of data in the **csv** file. \n",
    "\n",
    "\n",
    "We use **next()** function to skip some lines which we do not want some times, eg. skipping the header row or skipping some rows at the start. "
   ]
  },
  {
   "cell_type": "markdown",
   "metadata": {},
   "source": [
    "For writing the csv files we use the **writer()** function to write to csv. The writer() function takes following important arguments. \n",
    "\n",
    "1. **file object** - pointer to the file to write\n",
    "2. **delimiter** - the character used to separate the value. "
   ]
  },
  {
   "cell_type": "code",
   "execution_count": 6,
   "metadata": {},
   "outputs": [
    {
     "ename": "NameError",
     "evalue": "name 'csv' is not defined",
     "output_type": "error",
     "traceback": [
      "\u001b[1;31m---------------------------------------------------------------------------\u001b[0m",
      "\u001b[1;31mNameError\u001b[0m                                 Traceback (most recent call last)",
      "\u001b[1;32m<ipython-input-6-8b166bef26fe>\u001b[0m in \u001b[0;36m<module>\u001b[1;34m()\u001b[0m\n\u001b[0;32m      2\u001b[0m \u001b[1;33m\u001b[0m\u001b[0m\n\u001b[0;32m      3\u001b[0m \u001b[1;32mwith\u001b[0m \u001b[0mopen\u001b[0m\u001b[1;33m(\u001b[0m\u001b[1;34m\"csvwrite.csv\"\u001b[0m\u001b[1;33m,\u001b[0m\u001b[1;34m\"w\"\u001b[0m\u001b[1;33m)\u001b[0m \u001b[1;32mas\u001b[0m \u001b[0mf_out\u001b[0m\u001b[1;33m:\u001b[0m\u001b[1;33m\u001b[0m\u001b[0m\n\u001b[1;32m----> 4\u001b[1;33m     \u001b[0mwriter\u001b[0m \u001b[1;33m=\u001b[0m \u001b[0mcsv\u001b[0m\u001b[1;33m.\u001b[0m\u001b[0mwriter\u001b[0m\u001b[1;33m(\u001b[0m\u001b[0mf_out\u001b[0m\u001b[1;33m,\u001b[0m \u001b[0mdelimiter\u001b[0m \u001b[1;33m=\u001b[0m \u001b[1;34m\",\"\u001b[0m\u001b[1;33m)\u001b[0m\u001b[1;33m\u001b[0m\u001b[0m\n\u001b[0m\u001b[0;32m      5\u001b[0m     \u001b[0mwriter\u001b[0m\u001b[1;33m.\u001b[0m\u001b[0mwriterow\u001b[0m\u001b[1;33m(\u001b[0m\u001b[0mmy_data\u001b[0m\u001b[1;33m)\u001b[0m\u001b[1;33m\u001b[0m\u001b[0m\n",
      "\u001b[1;31mNameError\u001b[0m: name 'csv' is not defined"
     ]
    }
   ],
   "source": [
    "my_data = [\"spam\",\"ham\",\"poha\",\"parantha\"]\n",
    "\n",
    "with open(\"csvwrite.csv\",\"w\") as f_out:\n",
    "    writer = csv.writer(f_out, delimiter = \",\")\n",
    "    writer.writerow(my_data)\n"
   ]
  },
  {
   "cell_type": "markdown",
   "metadata": {},
   "source": [
    "### Working with Dictionaries in csv files\n",
    "\n",
    "Though plain csv **reader** and **writer** objects give us the ability to read the data properly but what we are getting is still a list for each row and we have to manually remmeber the index of each column to know about what data column we are working with. \n",
    "\n",
    "It would be much better that if we read each row as a dictionary and the keys of the dictionary tell use the column name and values are the value in that column for the row. This will make it easier to understand the data. \n",
    "\n",
    "Fortunately, **csv** module provides us with the 2 great classes for this task \n",
    "\n",
    "1. **DictReader** - Read the data from the file row by row as a dictionary \n",
    "2. **DictWriter** - Write the data to a csv file from dictionaries. \n",
    "\n",
    "Both the classes work similary as the **reader()** and **writer()** function we have seen above\n",
    "\n",
    "Let's see the examples and code snippets. "
   ]
  },
  {
   "cell_type": "code",
   "execution_count": 45,
   "metadata": {},
   "outputs": [
    {
     "name": "stdout",
     "output_type": "stream",
     "text": [
      "{'alcalinity_of_ash': '15.6',\n",
      " 'alcohol': '14.23',\n",
      " 'ash': '2.43',\n",
      " 'class_label': '1',\n",
      " 'class_name': 'Barolo',\n",
      " 'color_intensity': '5.64',\n",
      " 'flavanoids': '3.06',\n",
      " 'hue': '1.04',\n",
      " 'magnesium': '127',\n",
      " 'malic_acid': '1.71',\n",
      " 'nonflavanoid_phenols': '0.28',\n",
      " 'od280': '3.92',\n",
      " 'proanthocyanins': '2.29',\n",
      " 'proline': '1065',\n",
      " 'total_phenols': '2.8'}\n"
     ]
    }
   ],
   "source": [
    "from pprint import pprint\n",
    "with open('./datasets/wine.csv') as f:\n",
    "    dict_reader = csv.DictReader(f)\n",
    "    for row in dict_reader:\n",
    "        pprint(row)\n",
    "        break"
   ]
  },
  {
   "cell_type": "markdown",
   "metadata": {},
   "source": [
    "Everything is same as the **reader** only the different class is used.\n",
    "\n",
    "One extra line used is `pprint()` instead of `print()`. This is done to show the dictionary output beautifully having each key value pair in each line instead of in a single line. \n",
    "\n",
    "\n",
    "Similarly for the Writing a dictionary"
   ]
  },
  {
   "cell_type": "code",
   "execution_count": 46,
   "metadata": {
    "collapsed": true
   },
   "outputs": [],
   "source": [
    "dict_to_write = {'age': '20', 'height': '62', 'id': '1', 'weight': '120.6', 'name': 'Alice'}\n",
    "\n",
    "with open('DictWriterSample.csv','w') as f:\n",
    "    writer = csv.DictWriter(f,delimiter=\"|\", fieldnames =  dict_to_write.keys())\n",
    "    writer.writerow(dict_to_write)\n",
    "    "
   ]
  },
  {
   "cell_type": "markdown",
   "metadata": {},
   "source": [
    "> This concludes our section on working with csv files. For more information in working with csv files, [read the documentation](https://docs.python.org/3.1/library/csv.html#csv.DictReader)."
   ]
  },
  {
   "cell_type": "markdown",
   "metadata": {},
   "source": [
    "### DateTime module\n",
    "\n",
    "During data science we work a lot with the date and time data \n",
    "Since everything come as a string and date and time are a series data\n",
    "so we need something which can show the linearity in time \n",
    "\n",
    "for that we have `datetime` module which helps us convert the strings to date objects \n",
    "we use this to do many tasks like \n",
    "\n",
    "1. Convert string to datetime objects \n",
    "2. Convert date to strings of our choice - US uses **month/day/year** we use **day/month/year** format\n",
    "3. Do operations on date eg. add days, month, years\n",
    "4. Do operations like select only data for one month or a week \n",
    "\n",
    "Insid the `datetime` module we have `datetime` object which we use. So to import it we use \n",
    "\n",
    "```python \n",
    "import datetime.datetime\n",
    "```\n",
    "or \n",
    "\n",
    "```\n",
    "from datetime import datetime #commonly used\n",
    "```\n",
    "\n",
    "This `datetime` object has a function `strptime()`\n",
    "\n",
    "which we read as **(str)ing (p)arse (time)**\n",
    "\n",
    "**strptime()** --> converts string to datetime object \n",
    "\n",
    "It has 2 arguments \n",
    "\n",
    "1. **datestring** --> the string which contains the date eg. *25/05/2018*\n",
    "2. **format** --> the format in which the string is preset **eg.** *%D/%M/%Y*\n",
    "\n",
    "\n",
    "The format string uses special characters to represent each part in the datestring.\n",
    "The complete list can be found at [documentation.](https://docs.python.org/3/library/datetime.html#strftime-and-strptime-behavior) \n",
    "\n",
    "Some coomon are \n",
    "\n",
    "special character | what it represents\n",
    "-----------------|---------------------\n",
    "%m | Month in numeric form\n",
    "%d | Day in numeric form \n",
    "%Y | Year in YYYY format **eg** *2018*\n",
    "\n",
    "\n",
    "The seperators will be used as it is. In our example we have **/** as a separator so it  will be used as it is. \n",
    "\n",
    "Example to convert string to date \n",
    "\n",
    "```python \n",
    "from datetime import datetime \n",
    "\n",
    "datestring = \"22/06/2018\"\n",
    "date_object = datetime.strptime(datestring, \"%D/%M/%Y\")\n",
    "\n",
    "print(date_object)\n",
    "print(type(date_object))\n",
    "```\n",
    "\n",
    "Let's see them in code now. \n"
   ]
  },
  {
   "cell_type": "code",
   "execution_count": 47,
   "metadata": {},
   "outputs": [
    {
     "name": "stdout",
     "output_type": "stream",
     "text": [
      "2015-09-01 06:09:00\n",
      "<class 'datetime.datetime'>\n"
     ]
    }
   ],
   "source": [
    "from datetime import datetime \n",
    "\n",
    "my_date = \"9/1/2015 6:09\"\n",
    "\n",
    "date_obj = datetime.strptime(my_date,'%m/%d/%Y %H:%M')\n",
    "print(date_obj)\n",
    "print(type(date_obj))"
   ]
  },
  {
   "cell_type": "markdown",
   "metadata": {},
   "source": [
    "**How to do operationso on the datetime object?**\n",
    "\n",
    "To do operations such as adding days, months to our object we use the **timedelta** from the **datetime** module as\n",
    "\n",
    "```python \n",
    "from datetime import timedelta\n",
    "```\n",
    "\n",
    "Then we use the `timedelta()` function to add the days or whatever we want as \n",
    "\n",
    "```python\n",
    "date_obj = date_obj + timedelta(days=1)\n",
    "print(date_obj\n",
    "```\n",
    "\n",
    "Common arguments of `timedelta()` are\n",
    "\n",
    "* weeks\n",
    "* days\n",
    "* hours\n",
    "* seconds \n",
    "* minutes\n",
    "\n",
    "See more at the [documentation.](https://docs.python.org/3.2/library/datetime.html#datetime.timedelta)"
   ]
  },
  {
   "cell_type": "code",
   "execution_count": 51,
   "metadata": {},
   "outputs": [
    {
     "name": "stdout",
     "output_type": "stream",
     "text": [
      "2015-10-13 06:09:00\n"
     ]
    }
   ],
   "source": [
    "from datetime import timedelta\n",
    "\n",
    "date_obj = date_obj + timedelta(weeks=6)\n",
    "print(date_obj)"
   ]
  },
  {
   "cell_type": "code",
   "execution_count": 52,
   "metadata": {},
   "outputs": [
    {
     "name": "stdout",
     "output_type": "stream",
     "text": [
      "2018-06-18 00:00:00\n",
      "2018-07-30 00:00:00\n"
     ]
    }
   ],
   "source": [
    "indian_date = \"18/6/2018\"\n",
    "training_start_date = datetime.strptime(indian_date, \"%d/%m/%Y\")\n",
    "print(training_start_date)\n",
    "training_end_date = training_start_date + timedelta(weeks=6)\n",
    "print(training_end_date)"
   ]
  },
  {
   "cell_type": "code",
   "execution_count": 53,
   "metadata": {
    "scrolled": false
   },
   "outputs": [
    {
     "name": "stdout",
     "output_type": "stream",
     "text": [
      "42\n",
      "3628800.0\n"
     ]
    },
    {
     "data": {
      "text/plain": [
       "3628800"
      ]
     },
     "execution_count": 53,
     "metadata": {},
     "output_type": "execute_result"
    }
   ],
   "source": [
    "diff = training_end_date - training_start_date\n",
    "print(diff.days)\n",
    "print(diff.total_seconds())\n",
    "42*24*60*60"
   ]
  },
  {
   "cell_type": "markdown",
   "metadata": {},
   "source": [
    "**Converting datetime objects back to string**\n",
    "\n",
    "We learned how to convert string to datetime\n",
    "\n",
    "How to do the reverse? Do we need to do the reverse?\n",
    "\n",
    "Yes. Sometimes dates are in 1 format and we need need to convert to other format. \n",
    "\n",
    "Eg. US and Rest of the world format \n",
    "\n",
    "Also sometimes we need to extract some information which is important to us and want to leave rest of infomration. \n",
    "\n",
    "**Eg.** We just need to extract the month or week from the full date. \n",
    "\n",
    "Here comes the new function \n",
    "\n",
    "**strftime()** - This works on the datetime object. So the date_obj that we have created. It takes the argument as \n",
    "\n",
    "*formatString* - The format in which we want to get the date. This format will be made up of same special characters as see while converting string to datetime object. \n",
    "\n",
    "\n",
    "**Example**\n",
    "\n",
    "```python \n",
    "from datetime import datetime \n",
    "\n",
    "my_date = \"9/1/2015 6:09\"\n",
    "\n",
    "# convert string to date\n",
    "date_obj = datetime.strptime(my_date,'%m/%d/%Y %H:%M')\n",
    "print(date_obj)\n",
    "\n",
    "#convert back to string in indian format and remove the hour and minute data\n",
    "normal_date = date_obj.strftime('%d/%m/%Y')\n",
    "print(normal_date)\n",
    "print(type_normal_data)\n",
    "```\n",
    "\n",
    "Use different format strings to get what you want. No one can stop you. "
   ]
  },
  {
   "cell_type": "code",
   "execution_count": 54,
   "metadata": {
    "scrolled": false
   },
   "outputs": [
    {
     "name": "stdout",
     "output_type": "stream",
     "text": [
      "2015-09-01 06:09:00\n",
      "01/09/2015\n",
      "<class 'str'>\n"
     ]
    }
   ],
   "source": [
    "\n",
    "\n",
    "my_date = \"9/1/2015 6:09\"\n",
    "\n",
    "# convert string to date\n",
    "date_obj = datetime.strptime(my_date,'%m/%d/%Y %H:%M')\n",
    "print(date_obj)\n",
    "\n",
    "#convert back to string in indian format and remove the hour and minute data\n",
    "normal_date = date_obj.strftime('%d/%m/%Y')\n",
    "print(normal_date)        #changed to our format\n",
    "print(type(normal_date))  #it's of type string"
   ]
  },
  {
   "cell_type": "markdown",
   "metadata": {
    "collapsed": true
   },
   "source": [
    "# END CLASS"
   ]
  },
  {
   "cell_type": "code",
   "execution_count": null,
   "metadata": {
    "collapsed": true
   },
   "outputs": [],
   "source": []
  }
 ],
 "metadata": {
  "kernelspec": {
   "display_name": "Python 3",
   "language": "python",
   "name": "python3"
  },
  "language_info": {
   "codemirror_mode": {
    "name": "ipython",
    "version": 3
   },
   "file_extension": ".py",
   "mimetype": "text/x-python",
   "name": "python",
   "nbconvert_exporter": "python",
   "pygments_lexer": "ipython3",
   "version": "3.7.3"
  },
  "toc": {
   "base_numbering": 1,
   "nav_menu": {
    "height": "258px",
    "width": "363px"
   },
   "number_sections": true,
   "sideBar": true,
   "skip_h1_title": false,
   "title_cell": "Table of Contents",
   "title_sidebar": "Contents",
   "toc_cell": false,
   "toc_position": {
    "height": "171px",
    "left": "220px",
    "top": "135px",
    "width": "217px"
   },
   "toc_section_display": true,
   "toc_window_display": true
  },
  "widgets": {
   "state": {},
   "version": "1.1.2"
  }
 },
 "nbformat": 4,
 "nbformat_minor": 2
}
